{
 "cells": [
  {
   "cell_type": "markdown",
   "id": "f5365964-fc74-4ff3-8d85-00e32c9f0d52",
   "metadata": {},
   "source": [
    "# Step 1 – Import Required Libraries"
   ]
  },
  {
   "cell_type": "code",
   "execution_count": 1,
   "id": "dd99a9c9-e9e1-4fa9-a784-c0264578a44a",
   "metadata": {},
   "outputs": [],
   "source": [
    "import pandas as pd\n",
    "import numpy as np\n",
    "import statsmodels.api as sm\n",
    "import matplotlib.pyplot as plt\n",
    "from sklearn.metrics import mean_squared_error, r2_score"
   ]
  },
  {
   "cell_type": "markdown",
   "id": "2dbad5b4-a4da-45f3-b9e1-984840291a0d",
   "metadata": {},
   "source": [
    "# Step 2 – Load the Cleaned Dataset"
   ]
  },
  {
   "cell_type": "code",
   "execution_count": 3,
   "id": "f6667d39-fa6d-47c7-9fa2-f5d3f0697cf9",
   "metadata": {},
   "outputs": [
    {
     "name": "stdout",
     "output_type": "stream",
     "text": [
      "<class 'pandas.core.frame.DataFrame'>\n",
      "RangeIndex: 3271 entries, 0 to 3270\n",
      "Data columns (total 14 columns):\n",
      " #   Column                Non-Null Count  Dtype  \n",
      "---  ------                --------------  -----  \n",
      " 0   Site_ID               3271 non-null   object \n",
      " 1   Class_Name            3271 non-null   object \n",
      " 2   End_Date              3271 non-null   object \n",
      " 3   Start_Time            3271 non-null   object \n",
      " 4   Capacity              3271 non-null   int64  \n",
      " 5   Booked                3271 non-null   int64  \n",
      " 6   Price_INR             3271 non-null   float64\n",
      " 7   End_DateTime          3271 non-null   object \n",
      " 8   Weekday               3271 non-null   object \n",
      " 9   Hour                  3271 non-null   int64  \n",
      " 10  Capacity_Utilization  3271 non-null   float64\n",
      " 11  Revenue               3271 non-null   float64\n",
      " 12  MaxBookes             3271 non-null   int64  \n",
      " 13  Dataset               3271 non-null   object \n",
      "dtypes: float64(3), int64(4), object(7)\n",
      "memory usage: 357.9+ KB\n",
      "None\n",
      "  Site_ID               Class_Name   End_Date Start_Time  Capacity  Booked  \\\n",
      "0     HXP  20-20-20  2.45pm-3.45pm   8-Apr-18   14:45:00        25      12   \n",
      "1     HXP  20-20-20  2.45pm-3.45pm  15-Apr-18   14:45:00        25      15   \n",
      "2     HXP  20-20-20  2.45pm-3.45pm  22-Apr-18   14:45:00        25      14   \n",
      "3     HXP  20-20-20  2.45pm-3.45pm  29-Apr-18   14:45:00        25       9   \n",
      "4     HXP  20-20-20  2.45pm-3.45pm   6-May-18   14:45:00        25       7   \n",
      "\n",
      "   Price_INR End_DateTime Weekday  Hour  Capacity_Utilization  Revenue  \\\n",
      "0      499.0   2018-04-08  Sunday    14                  48.0   5988.0   \n",
      "1      499.0   2018-04-15  Sunday    14                  60.0   7485.0   \n",
      "2      499.0   2018-04-22  Sunday    14                  56.0   6986.0   \n",
      "3      499.0   2018-04-29  Sunday    14                  36.0   4491.0   \n",
      "4      499.0   2018-05-06  Sunday    14                  28.0   3493.0   \n",
      "\n",
      "   MaxBookes Dataset  \n",
      "0         25   Train  \n",
      "1         25   Train  \n",
      "2         25   Train  \n",
      "3         25   Train  \n",
      "4         25   Train  \n"
     ]
    }
   ],
   "source": [
    "file_path = 'Cleaned_fitness_classes_data.csv'  # Make sure this is the correct path\n",
    "df = pd.read_csv(file_path)\n",
    "\n",
    "# Quick check of the data\n",
    "print(df.info())\n",
    "print(df.head())"
   ]
  },
  {
   "cell_type": "markdown",
   "id": "64bfda1d-f6f9-4d4d-8caa-daec027eb3b2",
   "metadata": {},
   "source": [
    "## Step 3 – Prepare the Data\n",
    " We model attendance (Booked) based on price (Price_INR)"
   ]
  },
  {
   "cell_type": "code",
   "execution_count": 4,
   "id": "e7665a1e-ab47-4e55-9392-53eac67acce3",
   "metadata": {},
   "outputs": [],
   "source": [
    "# Drop rows with missing values in relevant columns\n",
    "df = df.dropna(subset=['Booked', 'Price_INR'])"
   ]
  },
  {
   "cell_type": "code",
   "execution_count": 5,
   "id": "d9c2169c-ec4a-4993-a201-06737dfb4c8e",
   "metadata": {},
   "outputs": [],
   "source": [
    "# Select independent and dependent variables\n",
    "X = df[['Price_INR']]\n",
    "y = df['Booked']"
   ]
  },
  {
   "cell_type": "code",
   "execution_count": 6,
   "id": "633fc480-031f-4ac0-a150-5f8782ff3fa0",
   "metadata": {},
   "outputs": [],
   "source": [
    "# Add constant term for intercept\n",
    "X = sm.add_constant(X)"
   ]
  },
  {
   "cell_type": "markdown",
   "id": "1c7207b8-fb33-451d-9575-a430dab7f8c5",
   "metadata": {},
   "source": [
    "# Step 4 – Build the Price Elasticity Model using OLS"
   ]
  },
  {
   "cell_type": "code",
   "execution_count": 7,
   "id": "63146b0d-8045-40d7-bb60-25429ae5bd8f",
   "metadata": {},
   "outputs": [],
   "source": [
    "model = sm.OLS(y, X).fit()"
   ]
  },
  {
   "cell_type": "markdown",
   "id": "aa3c728c-67a6-4c4a-8128-6a4fd93b2979",
   "metadata": {},
   "source": [
    "# Step 5 – Print Model Summary"
   ]
  },
  {
   "cell_type": "code",
   "execution_count": 8,
   "id": "1fd627f0-6ecf-410b-8529-45bfa0f1e440",
   "metadata": {},
   "outputs": [
    {
     "name": "stdout",
     "output_type": "stream",
     "text": [
      "                            OLS Regression Results                            \n",
      "==============================================================================\n",
      "Dep. Variable:                 Booked   R-squared:                       0.037\n",
      "Model:                            OLS   Adj. R-squared:                  0.036\n",
      "Method:                 Least Squares   F-statistic:                     123.9\n",
      "Date:                Sat, 13 Sep 2025   Prob (F-statistic):           2.79e-28\n",
      "Time:                        15:27:17   Log-Likelihood:                -11949.\n",
      "No. Observations:                3271   AIC:                         2.390e+04\n",
      "Df Residuals:                    3269   BIC:                         2.391e+04\n",
      "Df Model:                           1                                         \n",
      "Covariance Type:            nonrobust                                         \n",
      "==============================================================================\n",
      "                 coef    std err          t      P>|t|      [0.025      0.975]\n",
      "------------------------------------------------------------------------------\n",
      "const         21.3767      0.415     51.473      0.000      20.562      22.191\n",
      "Price_INR     -0.0023      0.000    -11.133      0.000      -0.003      -0.002\n",
      "==============================================================================\n",
      "Omnibus:                      121.148   Durbin-Watson:                   0.467\n",
      "Prob(Omnibus):                  0.000   Jarque-Bera (JB):              133.995\n",
      "Skew:                           0.485   Prob(JB):                     8.00e-30\n",
      "Kurtosis:                       3.206   Cond. No.                     5.12e+03\n",
      "==============================================================================\n",
      "\n",
      "Notes:\n",
      "[1] Standard Errors assume that the covariance matrix of the errors is correctly specified.\n",
      "[2] The condition number is large, 5.12e+03. This might indicate that there are\n",
      "strong multicollinearity or other numerical problems.\n"
     ]
    }
   ],
   "source": [
    "print(model.summary())"
   ]
  },
  {
   "cell_type": "markdown",
   "id": "096630ce-4c57-4c5d-8027-c2ae65993ec0",
   "metadata": {},
   "source": [
    "# Step 6 – Predict Attendance and Evaluate Model"
   ]
  },
  {
   "cell_type": "code",
   "execution_count": 9,
   "id": "ab7f226b-2b06-4c4c-ba00-e779129762fb",
   "metadata": {},
   "outputs": [
    {
     "name": "stdout",
     "output_type": "stream",
     "text": [
      "Mean Squared Error: 87.20800799968214\n",
      "R-squared: 0.03652729179525027\n"
     ]
    }
   ],
   "source": [
    "y_pred = model.predict(X)\n",
    "mse = mean_squared_error(y, y_pred)\n",
    "r2 = r2_score(y, y_pred)\n",
    "\n",
    "print(f'Mean Squared Error: {mse}')\n",
    "print(f'R-squared: {r2}')\n",
    "\n"
   ]
  },
  {
   "cell_type": "markdown",
   "id": "8d76ea39-be92-45e1-b34b-93f7ee740cd9",
   "metadata": {},
   "source": [
    "# Step 7 – Plot Actual vs Predicted Attendance"
   ]
  },
  {
   "cell_type": "code",
   "execution_count": 10,
   "id": "4f9ea3d2-a160-486f-9baa-434eb6518f70",
   "metadata": {},
   "outputs": [
    {
     "data": {
      "image/png": "[encoded data removed]",
      "text/plain": [
       "<Figure size 640x480 with 1 Axes>"
      ]
     },
     "metadata": {},
     "output_type": "display_data"
    }
   ],
   "source": [
    "plt.scatter(df['Price_INR'], df['Booked'], color='blue', label='Actual')\n",
    "plt.scatter(df['Price_INR'], y_pred, color='red', label='Predicted')\n",
    "plt.xlabel('Price (INR)')\n",
    "plt.ylabel('Booked (Attendance)')\n",
    "plt.title('Price Elasticity: Actual vs Predicted Attendance')\n",
    "plt.legend()\n",
    "plt.show()"
   ]
  },
  {
   "cell_type": "markdown",
   "id": "5149f2f4-d7ff-44f1-b818-dadbe2990103",
   "metadata": {},
   "source": [
    "# Step 8 – Interpret Elasticity"
   ]
  },
  {
   "cell_type": "code",
   "execution_count": 11,
   "id": "a99a5642-c8f8-4c78-9043-24ea92c18bfd",
   "metadata": {},
   "outputs": [
    {
     "name": "stdout",
     "output_type": "stream",
     "text": [
      "Elasticity Estimate (Coefficient of Price_INR): -0.0022943488143660467\n",
      "As expected, attendance decreases with higher prices.\n"
     ]
    }
   ],
   "source": [
    "price_coeff = model.params['Price_INR']\n",
    "print(f'Elasticity Estimate (Coefficient of Price_INR): {price_coeff}')\n",
    "\n",
    "if price_coeff < 0:\n",
    "    print(\"As expected, attendance decreases with higher prices.\")\n",
    "else:\n",
    "    print(\"Unexpected result: attendance increases with price — further investigation needed.\")"
   ]
  }
 ],
 "metadata": {
  "kernelspec": {
   "display_name": "Python 3 (ipykernel)",
   "language": "python",
   "name": "python3"
  },
  "language_info": {
   "codemirror_mode": {
    "name": "ipython",
    "version": 3
   },
   "file_extension": ".py",
   "mimetype": "text/x-python",
   "name": "python",
   "nbconvert_exporter": "python",
   "pygments_lexer": "ipython3",
   "version": "3.12.7"
  }
 },
 "nbformat": 4,
 "nbformat_minor": 5
}
