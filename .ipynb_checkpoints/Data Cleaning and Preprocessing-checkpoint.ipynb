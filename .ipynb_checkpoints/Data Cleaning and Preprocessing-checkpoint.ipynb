{
 "cells": [
  {
   "cell_type": "markdown",
   "id": "5e0d1862-0775-48f8-8315-2afb2be33a6d",
   "metadata": {},
   "source": [
    "# 1. Set up your enviornment"
   ]
  },
  {
   "cell_type": "code",
   "execution_count": 126,
   "id": "a0b1ff14-5cf4-48da-8aa6-9377ee050904",
   "metadata": {},
   "outputs": [],
   "source": [
    "import pandas as pd\n",
    "import numpy as np"
   ]
  },
  {
   "cell_type": "markdown",
   "id": "7d22a637-a01c-41fe-8ae7-aa74e9001a08",
   "metadata": {},
   "source": [
    "# 2. Load your datasets"
   ]
  },
  {
   "cell_type": "code",
   "execution_count": 127,
   "id": "7451c7c9-d905-4f69-a762-d0c28258bab0",
   "metadata": {},
   "outputs": [],
   "source": [
    "april_may = pd.read_csv(\"Classes April-May 2018.csv\")\n",
    "june = pd.read_csv(\"Classes June 2018.csv\")"
   ]
  },
  {
   "cell_type": "markdown",
   "id": "1c1b0883-27f6-4c01-8929-b25db0f3de78",
   "metadata": {},
   "source": [
    "# 3. Inspect the data"
   ]
  },
  {
   "cell_type": "code",
   "execution_count": 128,
   "id": "584a7db4-515c-4f2e-9c05-f7cfa2d504b7",
   "metadata": {},
   "outputs": [
    {
     "name": "stdout",
     "output_type": "stream",
     "text": [
      "(2177, 7)\n",
      "(1112, 7)\n"
     ]
    }
   ],
   "source": [
    "print(april_may.shape)\n",
    "print(june.shape)"
   ]
  },
  {
   "cell_type": "code",
   "execution_count": 129,
   "id": "167ee55f-8abd-4252-bbb2-ad46dfdc71ac",
   "metadata": {},
   "outputs": [
    {
     "data": {
      "text/html": [
       "<div>\n",
       "<style scoped>\n",
       "    .dataframe tbody tr th:only-of-type {\n",
       "        vertical-align: middle;\n",
       "    }\n",
       "\n",
       "    .dataframe tbody tr th {\n",
       "        vertical-align: top;\n",
       "    }\n",
       "\n",
       "    .dataframe thead th {\n",
       "        text-align: right;\n",
       "    }\n",
       "</style>\n",
       "<table border=\"1\" class=\"dataframe\">\n",
       "  <thead>\n",
       "    <tr style=\"text-align: right;\">\n",
       "      <th></th>\n",
       "      <th>ActivitySiteID</th>\n",
       "      <th>ActivityDescription</th>\n",
       "      <th>BookingEndDateTime (Month / Day / Year)</th>\n",
       "      <th>BookingStartTime</th>\n",
       "      <th>MaxBookees</th>\n",
       "      <th>Number Booked</th>\n",
       "      <th>Price (INR)</th>\n",
       "    </tr>\n",
       "  </thead>\n",
       "  <tbody>\n",
       "    <tr>\n",
       "      <th>0</th>\n",
       "      <td>HXP</td>\n",
       "      <td>20-20-20  2.45pm-3.45pm</td>\n",
       "      <td>8-Apr-18</td>\n",
       "      <td>14:45:00</td>\n",
       "      <td>25</td>\n",
       "      <td>12</td>\n",
       "      <td>499.0</td>\n",
       "    </tr>\n",
       "    <tr>\n",
       "      <th>1</th>\n",
       "      <td>HXP</td>\n",
       "      <td>20-20-20  2.45pm-3.45pm</td>\n",
       "      <td>15-Apr-18</td>\n",
       "      <td>14:45:00</td>\n",
       "      <td>25</td>\n",
       "      <td>15</td>\n",
       "      <td>499.0</td>\n",
       "    </tr>\n",
       "    <tr>\n",
       "      <th>2</th>\n",
       "      <td>HXP</td>\n",
       "      <td>20-20-20  2.45pm-3.45pm</td>\n",
       "      <td>22-Apr-18</td>\n",
       "      <td>14:45:00</td>\n",
       "      <td>25</td>\n",
       "      <td>14</td>\n",
       "      <td>499.0</td>\n",
       "    </tr>\n",
       "    <tr>\n",
       "      <th>3</th>\n",
       "      <td>HXP</td>\n",
       "      <td>20-20-20  2.45pm-3.45pm</td>\n",
       "      <td>29-Apr-18</td>\n",
       "      <td>14:45:00</td>\n",
       "      <td>25</td>\n",
       "      <td>9</td>\n",
       "      <td>499.0</td>\n",
       "    </tr>\n",
       "    <tr>\n",
       "      <th>4</th>\n",
       "      <td>HXP</td>\n",
       "      <td>20-20-20  2.45pm-3.45pm</td>\n",
       "      <td>6-May-18</td>\n",
       "      <td>14:45:00</td>\n",
       "      <td>25</td>\n",
       "      <td>7</td>\n",
       "      <td>499.0</td>\n",
       "    </tr>\n",
       "  </tbody>\n",
       "</table>\n",
       "</div>"
      ],
      "text/plain": [
       "  ActivitySiteID      ActivityDescription  \\\n",
       "0            HXP  20-20-20  2.45pm-3.45pm   \n",
       "1            HXP  20-20-20  2.45pm-3.45pm   \n",
       "2            HXP  20-20-20  2.45pm-3.45pm   \n",
       "3            HXP  20-20-20  2.45pm-3.45pm   \n",
       "4            HXP  20-20-20  2.45pm-3.45pm   \n",
       "\n",
       "  BookingEndDateTime (Month / Day / Year) BookingStartTime  MaxBookees  \\\n",
       "0                                8-Apr-18         14:45:00          25   \n",
       "1                               15-Apr-18         14:45:00          25   \n",
       "2                               22-Apr-18         14:45:00          25   \n",
       "3                               29-Apr-18         14:45:00          25   \n",
       "4                                6-May-18         14:45:00          25   \n",
       "\n",
       "   Number Booked  Price (INR)  \n",
       "0             12        499.0  \n",
       "1             15        499.0  \n",
       "2             14        499.0  \n",
       "3              9        499.0  \n",
       "4              7        499.0  "
      ]
     },
     "execution_count": 129,
     "metadata": {},
     "output_type": "execute_result"
    }
   ],
   "source": [
    "\n",
    "april_may.head()\n"
   ]
  },
  {
   "cell_type": "code",
   "execution_count": 130,
   "id": "a9db54be-56a5-422e-a0d1-6ed77dbac7a6",
   "metadata": {},
   "outputs": [
    {
     "data": {
      "text/html": [
       "<div>\n",
       "<style scoped>\n",
       "    .dataframe tbody tr th:only-of-type {\n",
       "        vertical-align: middle;\n",
       "    }\n",
       "\n",
       "    .dataframe tbody tr th {\n",
       "        vertical-align: top;\n",
       "    }\n",
       "\n",
       "    .dataframe thead th {\n",
       "        text-align: right;\n",
       "    }\n",
       "</style>\n",
       "<table border=\"1\" class=\"dataframe\">\n",
       "  <thead>\n",
       "    <tr style=\"text-align: right;\">\n",
       "      <th></th>\n",
       "      <th>ActivitySiteID</th>\n",
       "      <th>ActivityDescription</th>\n",
       "      <th>BookingEndDateTime (Month / Day / Year)</th>\n",
       "      <th>BookingStartTime</th>\n",
       "      <th>MaxBookees</th>\n",
       "      <th>Number Booked</th>\n",
       "      <th>Price (INR)</th>\n",
       "    </tr>\n",
       "  </thead>\n",
       "  <tbody>\n",
       "    <tr>\n",
       "      <th>0</th>\n",
       "      <td>BRP</td>\n",
       "      <td>20:20:20  9.30-10.30am</td>\n",
       "      <td>1-Jun-18</td>\n",
       "      <td>9:30:00</td>\n",
       "      <td>35</td>\n",
       "      <td>28</td>\n",
       "      <td>499</td>\n",
       "    </tr>\n",
       "    <tr>\n",
       "      <th>1</th>\n",
       "      <td>BRP</td>\n",
       "      <td>20:20:20  9.30-10.30am</td>\n",
       "      <td>8-Jun-18</td>\n",
       "      <td>9:30:00</td>\n",
       "      <td>35</td>\n",
       "      <td>35</td>\n",
       "      <td>499</td>\n",
       "    </tr>\n",
       "    <tr>\n",
       "      <th>2</th>\n",
       "      <td>BRP</td>\n",
       "      <td>20:20:20  9.30-10.30am</td>\n",
       "      <td>15-Jun-18</td>\n",
       "      <td>9:30:00</td>\n",
       "      <td>35</td>\n",
       "      <td>31</td>\n",
       "      <td>499</td>\n",
       "    </tr>\n",
       "    <tr>\n",
       "      <th>3</th>\n",
       "      <td>BRP</td>\n",
       "      <td>20:20:20  9.30-10.30am</td>\n",
       "      <td>22-Jun-18</td>\n",
       "      <td>9:30:00</td>\n",
       "      <td>35</td>\n",
       "      <td>32</td>\n",
       "      <td>499</td>\n",
       "    </tr>\n",
       "    <tr>\n",
       "      <th>4</th>\n",
       "      <td>BRP</td>\n",
       "      <td>20:20:20  9.30-10.30am</td>\n",
       "      <td>29-Jun-18</td>\n",
       "      <td>9:30:00</td>\n",
       "      <td>35</td>\n",
       "      <td>19</td>\n",
       "      <td>499</td>\n",
       "    </tr>\n",
       "  </tbody>\n",
       "</table>\n",
       "</div>"
      ],
      "text/plain": [
       "  ActivitySiteID     ActivityDescription  \\\n",
       "0            BRP  20:20:20  9.30-10.30am   \n",
       "1            BRP  20:20:20  9.30-10.30am   \n",
       "2            BRP  20:20:20  9.30-10.30am   \n",
       "3            BRP  20:20:20  9.30-10.30am   \n",
       "4            BRP  20:20:20  9.30-10.30am   \n",
       "\n",
       "  BookingEndDateTime (Month / Day / Year) BookingStartTime  MaxBookees  \\\n",
       "0                                1-Jun-18          9:30:00          35   \n",
       "1                                8-Jun-18          9:30:00          35   \n",
       "2                               15-Jun-18          9:30:00          35   \n",
       "3                               22-Jun-18          9:30:00          35   \n",
       "4                               29-Jun-18          9:30:00          35   \n",
       "\n",
       "   Number Booked  Price (INR)  \n",
       "0             28          499  \n",
       "1             35          499  \n",
       "2             31          499  \n",
       "3             32          499  \n",
       "4             19          499  "
      ]
     },
     "execution_count": 130,
     "metadata": {},
     "output_type": "execute_result"
    }
   ],
   "source": [
    "june.head()"
   ]
  },
  {
   "cell_type": "markdown",
   "id": "ad9c5db5-7463-4d58-86af-819d44ae35ab",
   "metadata": {},
   "source": [
    "# 4. Clean the data (Check missing values):"
   ]
  },
  {
   "cell_type": "code",
   "execution_count": 131,
   "id": "c2e78421-58ff-495a-9ff6-97ce450f4c80",
   "metadata": {},
   "outputs": [
    {
     "data": {
      "text/plain": [
       "ActivitySiteID                              0\n",
       "ActivityDescription                         0\n",
       "BookingEndDateTime (Month / Day / Year)     0\n",
       "BookingStartTime                            0\n",
       "MaxBookees                                  0\n",
       "Number Booked                               0\n",
       "Price (INR)                                18\n",
       "dtype: int64"
      ]
     },
     "execution_count": 131,
     "metadata": {},
     "output_type": "execute_result"
    }
   ],
   "source": [
    "\n",
    "april_may.isnull().sum()\n"
   ]
  },
  {
   "cell_type": "code",
   "execution_count": 132,
   "id": "046e5cc1-d569-4ec5-8327-9b1abe4a19e6",
   "metadata": {
    "scrolled": true
   },
   "outputs": [
    {
     "data": {
      "text/plain": [
       "ActivitySiteID                             0\n",
       "ActivityDescription                        0\n",
       "BookingEndDateTime (Month / Day / Year)    0\n",
       "BookingStartTime                           0\n",
       "MaxBookees                                 0\n",
       "Number Booked                              0\n",
       "Price (INR)                                0\n",
       "dtype: int64"
      ]
     },
     "execution_count": 132,
     "metadata": {},
     "output_type": "execute_result"
    }
   ],
   "source": [
    "june.isnull().sum()"
   ]
  },
  {
   "cell_type": "markdown",
   "id": "dc985580-00f0-4c9b-8cc3-4bdbb4a4711f",
   "metadata": {},
   "source": [
    "# 4.1. drop rows with missing values:"
   ]
  },
  {
   "cell_type": "code",
   "execution_count": 133,
   "id": "e85f84f0-7fdd-4f8c-83f8-a1e7c3db374f",
   "metadata": {},
   "outputs": [],
   "source": [
    "\n",
    "april_may = april_may.dropna()\n",
    "june = june.dropna()"
   ]
  },
  {
   "cell_type": "markdown",
   "id": "30cbe45a-8838-4d97-9a7f-04fffe994611",
   "metadata": {},
   "source": [
    "# 4.2. Remove duplicates"
   ]
  },
  {
   "cell_type": "code",
   "execution_count": 134,
   "id": "26c9d4d7-fced-47d3-a031-07ff267c014c",
   "metadata": {},
   "outputs": [],
   "source": [
    "\n",
    "april_may = april_may.drop_duplicates()\n",
    "june = june.drop_duplicates()"
   ]
  },
  {
   "cell_type": "markdown",
   "id": "3d60586d-9dde-4af4-82f4-a2f29299b52f",
   "metadata": {},
   "source": [
    "# 4.3. Fix data types (Dates & Times especially)"
   ]
  },
  {
   "cell_type": "code",
   "execution_count": 135,
   "id": "e0bd1810-6dec-4113-ab7a-897d28977f46",
   "metadata": {},
   "outputs": [
    {
     "data": {
      "text/plain": [
       "ActivitySiteID                              object\n",
       "ActivityDescription                         object\n",
       "BookingEndDateTime (Month / Day / Year)     object\n",
       "BookingStartTime                            object\n",
       "MaxBookees                                   int64\n",
       "Number Booked                                int64\n",
       "Price (INR)                                float64\n",
       "dtype: object"
      ]
     },
     "execution_count": 135,
     "metadata": {},
     "output_type": "execute_result"
    }
   ],
   "source": [
    "\n",
    "april_may.dtypes\n"
   ]
  },
  {
   "cell_type": "code",
   "execution_count": 136,
   "id": "81832dd0-c37e-46c0-a1ad-8997c05a5c89",
   "metadata": {},
   "outputs": [
    {
     "data": {
      "text/plain": [
       "ActivitySiteID                             object\n",
       "ActivityDescription                        object\n",
       "BookingEndDateTime (Month / Day / Year)    object\n",
       "BookingStartTime                           object\n",
       "MaxBookees                                  int64\n",
       "Number Booked                               int64\n",
       "Price (INR)                                 int64\n",
       "dtype: object"
      ]
     },
     "execution_count": 136,
     "metadata": {},
     "output_type": "execute_result"
    }
   ],
   "source": [
    "june.dtypes"
   ]
  },
  {
   "cell_type": "code",
   "execution_count": 137,
   "id": "ac1601ef-aca0-4d85-8408-0916342fa1a6",
   "metadata": {},
   "outputs": [],
   "source": [
    "april_may[\"BookingEndDateTime\"] = pd.to_datetime(\n",
    "    april_may[\"BookingEndDateTime (Month / Day / Year)\"], \n",
    "    format=\"%d-%b-%y\", errors=\"coerce\"\n",
    ")\n",
    "\n",
    "june[\"BookingEndDateTime\"] = pd.to_datetime(\n",
    "    june[\"BookingEndDateTime (Month / Day / Year)\"], \n",
    "    format=\"%d-%b-%y\", errors=\"coerce\"\n",
    ")\n"
   ]
  },
  {
   "cell_type": "code",
   "execution_count": 138,
   "id": "3bf5e5db-12bc-41d5-8134-bae39bc3f846",
   "metadata": {
    "scrolled": true
   },
   "outputs": [
    {
     "data": {
      "text/plain": [
       "ActivitySiteID                                     object\n",
       "ActivityDescription                                object\n",
       "BookingEndDateTime (Month / Day / Year)            object\n",
       "BookingStartTime                                   object\n",
       "MaxBookees                                          int64\n",
       "Number Booked                                       int64\n",
       "Price (INR)                                       float64\n",
       "BookingEndDateTime                         datetime64[ns]\n",
       "dtype: object"
      ]
     },
     "execution_count": 138,
     "metadata": {},
     "output_type": "execute_result"
    }
   ],
   "source": [
    "april_may.dtypes"
   ]
  },
  {
   "cell_type": "markdown",
   "id": "d841567a-ed86-4ab6-85d9-94a4c2252758",
   "metadata": {},
   "source": [
    "# 5. Feature Engineering (Add new useful columns to both DataFrames\n",
    "## a) Day of the week\n",
    "## b) Hour of the class (convert start time first)\n",
    "## c) Capacity utilization\n",
    "## d) Revenue\n"
   ]
  },
  {
   "cell_type": "code",
   "execution_count": 139,
   "id": "37898341-c088-434b-9d32-c8dd39f8ab42",
   "metadata": {},
   "outputs": [],
   "source": [
    "#Day of the week\n",
    "april_may[\"Weekday\"] = april_may[\"BookingEndDateTime\"].dt.day_name()\n",
    "june[\"Weekday\"] = june[\"BookingEndDateTime\"].dt.day_name()\n",
    "\n",
    "\n",
    "#Hour of the class (convert start time first)\n",
    "april_may[\"Hour\"] = pd.to_datetime(\n",
    "    april_may[\"BookingStartTime\"], \n",
    "    format=\"%H:%M:%S\", errors=\"coerce\"\n",
    ").dt.hour\n",
    "\n",
    "june[\"Hour\"] = pd.to_datetime(\n",
    "    june[\"BookingStartTime\"], \n",
    "    format=\"%H:%M:%S\", errors=\"coerce\"\n",
    ").dt.hour\n",
    "\n",
    "\n",
    "#Capacity utilization\n",
    "april_may[\"Capacity_Utilization\"] = april_may[\"Number Booked\"] / april_may[\"MaxBookees\"]\n",
    "june[\"Capacity_Utilization\"] = june[\"Number Booked\"]/ june[\"MaxBookees\"]\n",
    "\n",
    "#Revenue\n",
    "april_may[\"Revenue\"] = april_may[\"Number Booked\"] * april_may[\"Price (INR)\"]\n",
    "june[\"Revenue\"] = june[\"Number Booked\"] * june[\"Price (INR)\"]\n"
   ]
  },
  {
   "cell_type": "code",
   "execution_count": 140,
   "id": "8476e7fa-3a36-4e05-a37c-37a1b1589a76",
   "metadata": {
    "scrolled": true
   },
   "outputs": [
    {
     "data": {
      "text/html": [
       "<div>\n",
       "<style scoped>\n",
       "    .dataframe tbody tr th:only-of-type {\n",
       "        vertical-align: middle;\n",
       "    }\n",
       "\n",
       "    .dataframe tbody tr th {\n",
       "        vertical-align: top;\n",
       "    }\n",
       "\n",
       "    .dataframe thead th {\n",
       "        text-align: right;\n",
       "    }\n",
       "</style>\n",
       "<table border=\"1\" class=\"dataframe\">\n",
       "  <thead>\n",
       "    <tr style=\"text-align: right;\">\n",
       "      <th></th>\n",
       "      <th>ActivitySiteID</th>\n",
       "      <th>ActivityDescription</th>\n",
       "      <th>BookingEndDateTime (Month / Day / Year)</th>\n",
       "      <th>BookingStartTime</th>\n",
       "      <th>MaxBookees</th>\n",
       "      <th>Number Booked</th>\n",
       "      <th>Price (INR)</th>\n",
       "      <th>BookingEndDateTime</th>\n",
       "      <th>Weekday</th>\n",
       "      <th>Hour</th>\n",
       "      <th>Capacity_Utilization</th>\n",
       "      <th>Revenue</th>\n",
       "    </tr>\n",
       "  </thead>\n",
       "  <tbody>\n",
       "    <tr>\n",
       "      <th>0</th>\n",
       "      <td>HXP</td>\n",
       "      <td>20-20-20  2.45pm-3.45pm</td>\n",
       "      <td>8-Apr-18</td>\n",
       "      <td>14:45:00</td>\n",
       "      <td>25</td>\n",
       "      <td>12</td>\n",
       "      <td>499.0</td>\n",
       "      <td>2018-04-08</td>\n",
       "      <td>Sunday</td>\n",
       "      <td>14</td>\n",
       "      <td>0.48</td>\n",
       "      <td>5988.0</td>\n",
       "    </tr>\n",
       "    <tr>\n",
       "      <th>1</th>\n",
       "      <td>HXP</td>\n",
       "      <td>20-20-20  2.45pm-3.45pm</td>\n",
       "      <td>15-Apr-18</td>\n",
       "      <td>14:45:00</td>\n",
       "      <td>25</td>\n",
       "      <td>15</td>\n",
       "      <td>499.0</td>\n",
       "      <td>2018-04-15</td>\n",
       "      <td>Sunday</td>\n",
       "      <td>14</td>\n",
       "      <td>0.60</td>\n",
       "      <td>7485.0</td>\n",
       "    </tr>\n",
       "    <tr>\n",
       "      <th>2</th>\n",
       "      <td>HXP</td>\n",
       "      <td>20-20-20  2.45pm-3.45pm</td>\n",
       "      <td>22-Apr-18</td>\n",
       "      <td>14:45:00</td>\n",
       "      <td>25</td>\n",
       "      <td>14</td>\n",
       "      <td>499.0</td>\n",
       "      <td>2018-04-22</td>\n",
       "      <td>Sunday</td>\n",
       "      <td>14</td>\n",
       "      <td>0.56</td>\n",
       "      <td>6986.0</td>\n",
       "    </tr>\n",
       "    <tr>\n",
       "      <th>3</th>\n",
       "      <td>HXP</td>\n",
       "      <td>20-20-20  2.45pm-3.45pm</td>\n",
       "      <td>29-Apr-18</td>\n",
       "      <td>14:45:00</td>\n",
       "      <td>25</td>\n",
       "      <td>9</td>\n",
       "      <td>499.0</td>\n",
       "      <td>2018-04-29</td>\n",
       "      <td>Sunday</td>\n",
       "      <td>14</td>\n",
       "      <td>0.36</td>\n",
       "      <td>4491.0</td>\n",
       "    </tr>\n",
       "    <tr>\n",
       "      <th>4</th>\n",
       "      <td>HXP</td>\n",
       "      <td>20-20-20  2.45pm-3.45pm</td>\n",
       "      <td>6-May-18</td>\n",
       "      <td>14:45:00</td>\n",
       "      <td>25</td>\n",
       "      <td>7</td>\n",
       "      <td>499.0</td>\n",
       "      <td>2018-05-06</td>\n",
       "      <td>Sunday</td>\n",
       "      <td>14</td>\n",
       "      <td>0.28</td>\n",
       "      <td>3493.0</td>\n",
       "    </tr>\n",
       "  </tbody>\n",
       "</table>\n",
       "</div>"
      ],
      "text/plain": [
       "  ActivitySiteID      ActivityDescription  \\\n",
       "0            HXP  20-20-20  2.45pm-3.45pm   \n",
       "1            HXP  20-20-20  2.45pm-3.45pm   \n",
       "2            HXP  20-20-20  2.45pm-3.45pm   \n",
       "3            HXP  20-20-20  2.45pm-3.45pm   \n",
       "4            HXP  20-20-20  2.45pm-3.45pm   \n",
       "\n",
       "  BookingEndDateTime (Month / Day / Year) BookingStartTime  MaxBookees  \\\n",
       "0                                8-Apr-18         14:45:00          25   \n",
       "1                               15-Apr-18         14:45:00          25   \n",
       "2                               22-Apr-18         14:45:00          25   \n",
       "3                               29-Apr-18         14:45:00          25   \n",
       "4                                6-May-18         14:45:00          25   \n",
       "\n",
       "   Number Booked  Price (INR) BookingEndDateTime Weekday  Hour  \\\n",
       "0             12        499.0         2018-04-08  Sunday    14   \n",
       "1             15        499.0         2018-04-15  Sunday    14   \n",
       "2             14        499.0         2018-04-22  Sunday    14   \n",
       "3              9        499.0         2018-04-29  Sunday    14   \n",
       "4              7        499.0         2018-05-06  Sunday    14   \n",
       "\n",
       "   Capacity_Utilization  Revenue  \n",
       "0                  0.48   5988.0  \n",
       "1                  0.60   7485.0  \n",
       "2                  0.56   6986.0  \n",
       "3                  0.36   4491.0  \n",
       "4                  0.28   3493.0  "
      ]
     },
     "execution_count": 140,
     "metadata": {},
     "output_type": "execute_result"
    }
   ],
   "source": [
    "april_may.head()"
   ]
  },
  {
   "cell_type": "markdown",
   "id": "9197475a-409e-4888-b4d5-1318b0edb08d",
   "metadata": {},
   "source": [
    "# 6. Data Integration, Merging & Quality Assurance\n",
    "## 6.1. Ensure numeric types for core fields"
   ]
  },
  {
   "cell_type": "code",
   "execution_count": 141,
   "id": "65304aa8-94c9-40c3-bbc1-94743cc99375",
   "metadata": {},
   "outputs": [],
   "source": [
    "for df in [april_may, june]: \n",
    "    df[\"MaxBookes\"] = pd.to_numeric(df[\"MaxBookees\"], errors = \"coerce\")\n",
    "    df[\"Number Booked\"] = pd.to_numeric(df[\"Number Booked\"], errors = \"coerce\")\n",
    "    df[\"Price (INR)\"] = pd.to_numeric(df[\"Price (INR)\"], errors = \"coerce\")"
   ]
  },
  {
   "cell_type": "markdown",
   "id": "ffc56c52-54db-4bb0-a934-e2fe53baf96d",
   "metadata": {},
   "source": [
    "# 6.2. Label datasets and merge"
   ]
  },
  {
   "cell_type": "code",
   "execution_count": 142,
   "id": "5492bea5-325a-416e-a0d7-af5d933fd17d",
   "metadata": {},
   "outputs": [],
   "source": [
    "april_may[\"Dataset\"] = \"Train\"\n",
    "june[\"Dataset\"] = \"Test\"\n",
    "combined = pd.concat([april_may, june], ignore_index = True)"
   ]
  },
  {
   "cell_type": "code",
   "execution_count": 143,
   "id": "1f9f49bc-1d90-4be9-b113-bb12fac3fd38",
   "metadata": {},
   "outputs": [],
   "source": [
    "combined = pd.concat([april_may, june], ignore_index = True)"
   ]
  },
  {
   "cell_type": "markdown",
   "id": "0dccd5ee-9ef6-4b77-ba1f-25ff3ee72f0a",
   "metadata": {},
   "source": [
    "# 6.3. Drop exact duplicates (same site/class/date/start/price/capacity/booked)"
   ]
  },
  {
   "cell_type": "code",
   "execution_count": 144,
   "id": "33c49627-f6a8-4a9e-9e7f-33594b86fbdd",
   "metadata": {},
   "outputs": [],
   "source": [
    "before_dups = len(combined)\n",
    "combined = combined.drop_duplicates()\n",
    "after_dups = len(combined)"
   ]
  },
  {
   "cell_type": "code",
   "execution_count": 145,
   "id": "5ab44982-fb6e-4868-b804-97e6fea3f01f",
   "metadata": {},
   "outputs": [
    {
     "name": "stdout",
     "output_type": "stream",
     "text": [
      "3271\n",
      "3271\n"
     ]
    }
   ],
   "source": [
    "print(before_dups)\n",
    "print(after_dups)"
   ]
  },
  {
   "cell_type": "markdown",
   "id": "715d59e5-79ae-40a4-9400-ae9495630a64",
   "metadata": {},
   "source": [
    "# 6.4. Check for missing values"
   ]
  },
  {
   "cell_type": "code",
   "execution_count": 146,
   "id": "95587274-17a5-42b2-9f59-909a7680c450",
   "metadata": {
    "scrolled": true
   },
   "outputs": [
    {
     "name": "stdout",
     "output_type": "stream",
     "text": [
      "Missing values per column:\n",
      "ActivitySiteID                             0\n",
      "ActivityDescription                        0\n",
      "BookingEndDateTime (Month / Day / Year)    0\n",
      "BookingStartTime                           0\n",
      "MaxBookees                                 0\n",
      "Number Booked                              0\n",
      "Price (INR)                                0\n",
      "BookingEndDateTime                         0\n",
      "Weekday                                    0\n",
      "Hour                                       0\n",
      "Capacity_Utilization                       0\n",
      "Revenue                                    0\n",
      "MaxBookes                                  0\n",
      "Dataset                                    0\n",
      "dtype: int64\n"
     ]
    }
   ],
   "source": [
    "\n",
    "print(\"Missing values per column:\")\n",
    "print(combined.isnull().sum())"
   ]
  },
  {
   "cell_type": "markdown",
   "id": "9bed2333-71fc-4ce9-a0cf-1f176bc8ca71",
   "metadata": {},
   "source": [
    "# 7. Quality Checks"
   ]
  },
  {
   "cell_type": "code",
   "execution_count": 147,
   "id": "a6ca65f2-f6ef-409b-b790-cf9c155b6794",
   "metadata": {},
   "outputs": [
    {
     "name": "stdout",
     "output_type": "stream",
     "text": [
      "Duplicates:  0\n",
      "Missing Values:  ActivitySiteID                             0\n",
      "ActivityDescription                        0\n",
      "BookingEndDateTime (Month / Day / Year)    0\n",
      "BookingStartTime                           0\n",
      "MaxBookees                                 0\n",
      "Number Booked                              0\n",
      "Price (INR)                                0\n",
      "BookingEndDateTime                         0\n",
      "Weekday                                    0\n",
      "Hour                                       0\n",
      "Capacity_Utilization                       0\n",
      "Revenue                                    0\n",
      "MaxBookes                                  0\n",
      "Dataset                                    0\n",
      "dtype: int64\n",
      "Date range:  2018-04-01 00:00:00 to 2018-06-30 00:00:00\n"
     ]
    }
   ],
   "source": [
    "\n",
    "print(\"Duplicates: \", combined.duplicated().sum())\n",
    "print(\"Missing Values: \", combined.isna().sum())\n",
    "print(\"Date range: \", combined[\"BookingEndDateTime\"].min(), \"to\", combined[\"BookingEndDateTime\"].max())"
   ]
  },
  {
   "cell_type": "markdown",
   "id": "561815da-e3f8-47d2-98b0-e233d31e37f5",
   "metadata": {},
   "source": [
    "# 8. Renaming Columns"
   ]
  },
  {
   "cell_type": "code",
   "execution_count": 148,
   "id": "f84d8dc7-ec7c-4b9d-bf79-9e4e59fd0370",
   "metadata": {},
   "outputs": [],
   "source": [
    "combined = combined.rename(columns={\n",
    "    \"ActivitySiteID\": \"Site_ID\",\n",
    "    \"ActivityDescription\": \"Class_Name\",\n",
    "    \"BookingEndDateTime (Month / Day / Year)\": \"End_Date\",\n",
    "    \"BookingStartTime\": \"Start_Time\",\n",
    "    \"MaxBookees\": \"Capacity\",\n",
    "    \"Number Booked\": \"Booked\",\n",
    "    \"Price (INR)\": \"Price_INR\",\n",
    "    \"BookingEndDateTime\": \"End_DateTime\",\n",
    "    \"weekday\": \"Weekday\",\n",
    "    \"Hour\": \"Hour\",\n",
    "    \"Capacity_Utilization\": \"Capacity_Utilization\",\n",
    "    \"Revenue\": \"Revenue\"\n",
    "})"
   ]
  },
  {
   "cell_type": "markdown",
   "id": "7ab436df-5652-4b7b-9449-7191b4c887c7",
   "metadata": {},
   "source": [
    "# 9. Save cleaned dataset"
   ]
  },
  {
   "cell_type": "code",
   "execution_count": 149,
   "id": "07566d33-5c6c-4aba-bb8b-155a353279ee",
   "metadata": {},
   "outputs": [],
   "source": [
    "combined.to_csv(\"Cleaned_fitness_classes.csv\", index = False)"
   ]
  },
  {
   "cell_type": "markdown",
   "id": "0761d73f-f53e-4704-a734-e3edca6271c7",
   "metadata": {},
   "source": [
    "## We have successfully cleaned, preprocessed, and saved the dataset for further analysis."
   ]
  },
  {
   "cell_type": "code",
   "execution_count": null,
   "id": "654063ae-23d9-4970-b62c-2ac2d78ee9b8",
   "metadata": {},
   "outputs": [],
   "source": []
  },
  {
   "cell_type": "code",
   "execution_count": null,
   "id": "6a8de354-2e10-4130-b779-bdbe3227c1df",
   "metadata": {},
   "outputs": [],
   "source": []
  },
  {
   "cell_type": "code",
   "execution_count": null,
   "id": "6ba34833-d62f-4796-a527-bf7519ab178e",
   "metadata": {},
   "outputs": [],
   "source": []
  }
 ],
 "metadata": {
  "kernelspec": {
   "display_name": "Python 3 (ipykernel)",
   "language": "python",
   "name": "python3"
  },
  "language_info": {
   "codemirror_mode": {
    "name": "ipython",
    "version": 3
   },
   "file_extension": ".py",
   "mimetype": "text/x-python",
   "name": "python",
   "nbconvert_exporter": "python",
   "pygments_lexer": "ipython3",
   "version": "3.12.7"
  }
 },
 "nbformat": 4,
 "nbformat_minor": 5
}
